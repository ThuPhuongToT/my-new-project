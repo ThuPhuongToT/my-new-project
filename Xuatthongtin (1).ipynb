{
 "cells": [
  {
   "cell_type": "code",
   "execution_count": 1,
   "id": "8595d916",
   "metadata": {},
   "outputs": [
    {
     "name": "stdout",
     "output_type": "stream",
     "text": [
      "Họ và tên : Đỗ Thu Phương\n"
     ]
    }
   ],
   "source": [
    "print('Họ và tên : Đỗ Thu Phương')"
   ]
  },
  {
   "cell_type": "code",
   "execution_count": 2,
   "id": "d94f8bcb",
   "metadata": {},
   "outputs": [
    {
     "name": "stdout",
     "output_type": "stream",
     "text": [
      "Ngày tháng năm sinh:18/12/2003\n"
     ]
    }
   ],
   "source": [
    "print('Ngày tháng năm sinh:18/12/2003')"
   ]
  },
  {
   "cell_type": "code",
   "execution_count": null,
   "id": "3f15e62c",
   "metadata": {},
   "outputs": [],
   "source": []
  }
 ],
 "metadata": {
  "kernelspec": {
   "display_name": "Python 3",
   "language": "python",
   "name": "python3"
  },
  "language_info": {
   "codemirror_mode": {
    "name": "ipython",
    "version": 3
   },
   "file_extension": ".py",
   "mimetype": "text/x-python",
   "name": "python",
   "nbconvert_exporter": "python",
   "pygments_lexer": "ipython3",
   "version": "3.8.8"
  }
 },
 "nbformat": 4,
 "nbformat_minor": 5
}
